{
 "cells": [
  {
   "cell_type": "code",
   "execution_count": 5,
   "metadata": {
    "scrolled": true
   },
   "outputs": [],
   "source": [
    "import wikipedia\n",
    "#demo usage\n",
    "# wikipedia.summary('edfmnevj',sentences=1)"
   ]
  },
  {
   "cell_type": "code",
   "execution_count": 6,
   "metadata": {},
   "outputs": [],
   "source": [
    "#get address data\n",
    "#get address location tags, for eg. \n",
    "# address - Nagarathinam Colony, Sullivan Garden, Mylapore\n",
    "# Chennai, Tamil Nadu 600004\n",
    "#tokens - split by ','\n",
    "def locality_data(locality_tokens):\n",
    "    locality_tokens=locality_tokens.split(',') #assuming the input tokens have proper delimiter insertion\n",
    "    token_info_dict=dict()\n",
    "    for token in locality_tokens:\n",
    "        try:\n",
    "            token_info=wikipedia.summary(token,sentences=1)\n",
    "            token_info_dict[token]=token_info\n",
    "            print(token,\" - \",token_info)\n",
    "        except Exception:\n",
    "            print(\"for token - \",token)\n",
    "            print(\"search token not found in wikipedia pages...\")\n",
    "            pass\n",
    "        finally:\n",
    "            return token_info_dict"
   ]
  },
  {
   "cell_type": "code",
   "execution_count": null,
   "metadata": {},
   "outputs": [],
   "source": [
    "for "
   ]
  },
  {
   "cell_type": "code",
   "execution_count": 3,
   "metadata": {},
   "outputs": [
    {
     "name": "stdout",
     "output_type": "stream",
     "text": [
      "for token -  Nagarathinam Colony\n",
      "search token not found in wikipedia pages...\n"
     ]
    },
    {
     "data": {
      "text/plain": [
       "{}"
      ]
     },
     "execution_count": 3,
     "metadata": {},
     "output_type": "execute_result"
    }
   ],
   "source": [
    "locality_data('Nagarathinam Colony, Sullivan Garden, Mylapore, Villivakkam, Chennai, Tamil Nadu 600004')"
   ]
  },
  {
   "cell_type": "code",
   "execution_count": 6,
   "metadata": {},
   "outputs": [],
   "source": [
    "dataset_promise_merge=pd.read_csv('dataset_promise_merge.csv')"
   ]
  },
  {
   "cell_type": "code",
   "execution_count": 9,
   "metadata": {},
   "outputs": [
    {
     "data": {
      "text/plain": [
       "0          1.0\n",
       "1          2.0\n",
       "2          2.0\n",
       "3          3.0\n",
       "4          2.0\n",
       "          ... \n",
       "1218604    1.0\n",
       "1218605    1.0\n",
       "1218606    3.0\n",
       "1218607    1.0\n",
       "1218608    2.0\n",
       "Name: tier, Length: 1218609, dtype: float64"
      ]
     },
     "execution_count": 9,
     "metadata": {},
     "output_type": "execute_result"
    }
   ],
   "source": [
    "dataset_promise_merge['tier']"
   ]
  },
  {
   "cell_type": "code",
   "execution_count": null,
   "metadata": {},
   "outputs": [],
   "source": [
    "dataset_promise_merge['token_info_dict']=dataset_promise_merge['drop_location_address'].apply(lambda x: locality_data(x))"
   ]
  },
  {
   "cell_type": "code",
   "execution_count": null,
   "metadata": {},
   "outputs": [],
   "source": [
    "def get_location_details(text):\n",
    "    #text is a token extracted from address string - for entity mapping\n",
    "    try:\n",
    "        wiki_text=''\n",
    "        wiki_text=wikipedia.summary(text,sentences=1)\n",
    "        address_entities=dict()\n",
    "        wiki_text.find(text+)\n",
    "    except Exception e:\n",
    "        print(\"the text is not a valid location name: \")\n",
    "        #fallback to google map - search\n",
    "        pass\n"
   ]
  }
 ],
 "metadata": {
  "interpreter": {
   "hash": "13992fc0be8ead6bde6ec2d91c4d4e084ade42f697c3f415b7ab873d85d7127d"
  },
  "kernelspec": {
   "display_name": "Python 3 (ipykernel)",
   "language": "python",
   "name": "python3"
  },
  "language_info": {
   "codemirror_mode": {
    "name": "ipython",
    "version": 3
   },
   "file_extension": ".py",
   "mimetype": "text/x-python",
   "name": "python",
   "nbconvert_exporter": "python",
   "pygments_lexer": "ipython3",
   "version": "3.9.7"
  }
 },
 "nbformat": 4,
 "nbformat_minor": 4
}
